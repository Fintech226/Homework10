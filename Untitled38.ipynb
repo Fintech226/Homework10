{
 "cells": [
  {
   "cell_type": "code",
   "execution_count": 3,
   "id": "bd3b33df-6b03-4595-805a-b0dab5c9be1f",
   "metadata": {},
   "outputs": [],
   "source": [
    "import pandas as pd\n",
    "import hvplot.pandas\n",
    "from pathlib import Path\n",
    "from sklearn.cluster import KMeans\n",
    "from sklearn.preprocessing import StandardScaler\n"
   ]
  },
  {
   "cell_type": "code",
   "execution_count": 2,
   "id": "a30b492b-c1ef-401d-a295-5056653acad5",
   "metadata": {},
   "outputs": [
    {
     "ename": "SyntaxError",
     "evalue": "(unicode error) 'unicodeescape' codec can't decode bytes in position 2-3: truncated \\UXXXXXXXX escape (3553208668.py, line 1)",
     "output_type": "error",
     "traceback": [
      "\u001b[1;36m  File \u001b[1;32m\"C:\\Users\\pwals\\AppData\\Local\\Temp\\ipykernel_14276\\3553208668.py\"\u001b[1;36m, line \u001b[1;32m1\u001b[0m\n\u001b[1;33m    spread_df = pd.read_csv(\"C:\\Users\\pwals\\OneDrive\\Desktop\\assignmentten\\Resources\\crypto_market_data\")\u001b[0m\n\u001b[1;37m                                                                                                        ^\u001b[0m\n\u001b[1;31mSyntaxError\u001b[0m\u001b[1;31m:\u001b[0m (unicode error) 'unicodeescape' codec can't decode bytes in position 2-3: truncated \\UXXXXXXXX escape\n"
     ]
    }
   ],
   "source": [
    "#Read CSV\n",
    "spread_df = pd.read_csv(\"C:\\Users\\pwals\\OneDrive\\Desktop\\assignmentten\\Resources\\crypto_market_data\")\n",
    "spread_df.head()"
   ]
  },
  {
   "cell_type": "code",
   "execution_count": 4,
   "id": "6200258d-dd8d-4c7f-a095-f85a21e81e07",
   "metadata": {},
   "outputs": [],
   "source": [
    "inertia = []\n",
    "k = list(range(1, 11))\n",
    "k\n"
   ]
  },
  {
   "cell_type": "code",
   "execution_count": null,
   "id": "cdd04dd4-5aee-48a2-839b-c15694960f89",
   "metadata": {},
   "outputs": [],
   "source": [
    "#KMEANS with Inertia\n",
    "for i in k:\n",
    "    k_model = KMeans(n_clusters=i, random_state=1)\n",
    "    k_model.fit(spread_df)\n",
    "    inertia.append(k_model.inertia_)\n",
    "    print(k_model.inertia_)"
   ]
  },
  {
   "cell_type": "code",
   "execution_count": null,
   "id": "ad23cc4f-ad61-415f-a66c-c41d087d8efa",
   "metadata": {},
   "outputs": [],
   "source": [
    "#Elbow Results\n",
    "elbow_data = {\"k\": k, \"inertia\": inertia}\n",
    "df_elbow = pd.DataFrame(elbow_data)\n",
    "df_elbow.head()"
   ]
  },
  {
   "cell_type": "code",
   "execution_count": null,
   "id": "a0f3223b-8e55-4a9b-a6a0-92b1b5ffab3e",
   "metadata": {},
   "outputs": [],
   "source": [
    "#Elbow Results\n",
    "df_elbow.hvplot.line(\n",
    "    x=\"k\", \n",
    "    y=\"inertia\", \n",
    "    title=\"Elbow Curve\", \n",
    "    xticks=k\n",
    ")"
   ]
  },
  {
   "cell_type": "code",
   "execution_count": null,
   "id": "a4a370e5-7d8b-4418-ba92-f5ecdbf8b5e3",
   "metadata": {},
   "outputs": [],
   "source": [
    "#Model1, answers to first 4 questions\n",
    "model = KMeans(n_clusters=3, random_state=1)\n",
    "model.fit(spread_df)\n",
    "k_lower = model.predict(spread_df)\n",
    "spread_df_predictions = spread_df.copy()\n",
    "spread_df_predictions['clusters_lower'] = k_lower"
   ]
  },
  {
   "cell_type": "code",
   "execution_count": 5,
   "id": "56d1ffea-22b3-48dc-b22d-f57b44589654",
   "metadata": {},
   "outputs": [
    {
     "ename": "NameError",
     "evalue": "name 'spread_df_predictions' is not defined",
     "output_type": "error",
     "traceback": [
      "\u001b[1;31m---------------------------------------------------------------------------\u001b[0m",
      "\u001b[1;31mNameError\u001b[0m                                 Traceback (most recent call last)",
      "\u001b[1;32m~\\AppData\\Local\\Temp\\ipykernel_14276\\1363140693.py\u001b[0m in \u001b[0;36m<module>\u001b[1;34m\u001b[0m\n\u001b[1;32m----> 1\u001b[1;33m spread_df_predictions.hvplot.scatter(\n\u001b[0m\u001b[0;32m      2\u001b[0m     \u001b[0mx\u001b[0m\u001b[1;33m=\u001b[0m\u001b[1;34m\"hi_low_spread\"\u001b[0m\u001b[1;33m,\u001b[0m\u001b[1;33m\u001b[0m\u001b[1;33m\u001b[0m\u001b[0m\n\u001b[0;32m      3\u001b[0m     \u001b[0my\u001b[0m\u001b[1;33m=\u001b[0m\u001b[1;34m\"close\"\u001b[0m\u001b[1;33m,\u001b[0m\u001b[1;33m\u001b[0m\u001b[1;33m\u001b[0m\u001b[0m\n\u001b[0;32m      4\u001b[0m     \u001b[0mby\u001b[0m\u001b[1;33m=\u001b[0m\u001b[1;34m\"clusters_lower\"\u001b[0m\u001b[1;33m\u001b[0m\u001b[1;33m\u001b[0m\u001b[0m\n\u001b[0;32m      5\u001b[0m ).opts(yformatter=\"%.0f\")\n",
      "\u001b[1;31mNameError\u001b[0m: name 'spread_df_predictions' is not defined"
     ]
    }
   ],
   "source": [
    "#Graph of first 4 questions\n",
    "spread_df_predictions.hvplot.scatter(\n",
    "    x=\"hi_low_spread\",\n",
    "    y=\"close\",\n",
    "    by=\"clusters_lower\"\n",
    ").opts(yformatter=\"%.0f\")"
   ]
  },
  {
   "cell_type": "code",
   "execution_count": null,
   "id": "4dedb61a-d381-4eb3-a779-a1811aa1a204",
   "metadata": {},
   "outputs": [],
   "source": [
    "model = KMeans(n_clusters=4, random_state=1)\n",
    "model.fit(spread_df)\n",
    "k_higher = model.predict(spread_df)\n",
    "spread_df_predictions['clusters_higher'] = k_higher"
   ]
  },
  {
   "cell_type": "code",
   "execution_count": null,
   "id": "e1427972-a35b-43fb-9698-c340f64c4d19",
   "metadata": {},
   "outputs": [],
   "source": [
    "spread_df_predictions.hvplot.scatter(\n",
    "    x=\"hi_low_spread\",\n",
    "    y=\"close\",\n",
    "    by=\"clusters_higher\"\n",
    ").opts(yformatter=\"%.0f\")"
   ]
  },
  {
   "cell_type": "code",
   "execution_count": null,
   "id": "bffaa50f-430d-4c75-aeda-cd56d9bec7cd",
   "metadata": {},
   "outputs": [],
   "source": [
    "customers_transformed_df = pd.read_csv(\n",
    "    Path(\"C:\\Users\\pwals\\OneDrive\\Desktop\\assignmentten\\Resources\\crypto_market_data\")\n",
    ")\n",
    "customers_transformed_df.head()"
   ]
  },
  {
   "cell_type": "code",
   "execution_count": 6,
   "id": "94b486fe-3203-4548-b2bc-f40489739623",
   "metadata": {},
   "outputs": [],
   "source": [
    "from sklearn.decomposition import PCA"
   ]
  },
  {
   "cell_type": "code",
   "execution_count": null,
   "id": "96f6e3ed-c415-42e9-8c86-b09952ca14a5",
   "metadata": {},
   "outputs": [],
   "source": [
    "pca=PCA(n_components=2)"
   ]
  },
  {
   "cell_type": "code",
   "execution_count": null,
   "id": "9b418fb1-c377-4893-bd36-f62b3dbd2fb9",
   "metadata": {},
   "outputs": [],
   "source": [
    "customers_pca = pca.fit_transform(customers_transformed_df)\n",
    "customers_pca[:5]"
   ]
  },
  {
   "cell_type": "code",
   "execution_count": 7,
   "id": "68e4631e-4fa9-4132-9686-565de9ab8e99",
   "metadata": {},
   "outputs": [
    {
     "ename": "NameError",
     "evalue": "name 'pca' is not defined",
     "output_type": "error",
     "traceback": [
      "\u001b[1;31m---------------------------------------------------------------------------\u001b[0m",
      "\u001b[1;31mNameError\u001b[0m                                 Traceback (most recent call last)",
      "\u001b[1;32m~\\AppData\\Local\\Temp\\ipykernel_14276\\2521000722.py\u001b[0m in \u001b[0;36m<module>\u001b[1;34m\u001b[0m\n\u001b[1;32m----> 1\u001b[1;33m \u001b[0mpca\u001b[0m\u001b[1;33m.\u001b[0m\u001b[0mexplained_variance_ratio_\u001b[0m\u001b[1;33m\u001b[0m\u001b[1;33m\u001b[0m\u001b[0m\n\u001b[0m",
      "\u001b[1;31mNameError\u001b[0m: name 'pca' is not defined"
     ]
    }
   ],
   "source": [
    "pca.explained_variance_ratio_\n"
   ]
  },
  {
   "cell_type": "code",
   "execution_count": null,
   "id": "f2f0344b-1a1b-49c2-8e85-0bc51b55fc3c",
   "metadata": {},
   "outputs": [],
   "source": [
    "customers_pca_df = pd.DataFrame(\n",
    "    customers_pca,\n",
    "    columns=[\"PCA1\", \"PCA2\"]\n",
    ")\n",
    "customers_pca_df.head()"
   ]
  },
  {
   "cell_type": "code",
   "execution_count": 8,
   "id": "301fef24-5865-43f1-a1e0-0f56470a294a",
   "metadata": {},
   "outputs": [],
   "source": [
    "inertia = []\n",
    "k = list(range(1, 11))"
   ]
  },
  {
   "cell_type": "code",
   "execution_count": 9,
   "id": "ed654806-5795-404a-b294-d1955789f868",
   "metadata": {},
   "outputs": [
    {
     "ename": "NameError",
     "evalue": "name 'customers_pca_df' is not defined",
     "output_type": "error",
     "traceback": [
      "\u001b[1;31m---------------------------------------------------------------------------\u001b[0m",
      "\u001b[1;31mNameError\u001b[0m                                 Traceback (most recent call last)",
      "\u001b[1;32m~\\AppData\\Local\\Temp\\ipykernel_14276\\947905679.py\u001b[0m in \u001b[0;36m<module>\u001b[1;34m\u001b[0m\n\u001b[0;32m      1\u001b[0m \u001b[1;32mfor\u001b[0m \u001b[0mi\u001b[0m \u001b[1;32min\u001b[0m \u001b[0mk\u001b[0m\u001b[1;33m:\u001b[0m\u001b[1;33m\u001b[0m\u001b[1;33m\u001b[0m\u001b[0m\n\u001b[0;32m      2\u001b[0m     \u001b[0mk_model\u001b[0m \u001b[1;33m=\u001b[0m \u001b[0mKMeans\u001b[0m\u001b[1;33m(\u001b[0m\u001b[0mn_clusters\u001b[0m\u001b[1;33m=\u001b[0m\u001b[0mi\u001b[0m\u001b[1;33m,\u001b[0m \u001b[0mrandom_state\u001b[0m\u001b[1;33m=\u001b[0m\u001b[1;36m0\u001b[0m\u001b[1;33m)\u001b[0m\u001b[1;33m\u001b[0m\u001b[1;33m\u001b[0m\u001b[0m\n\u001b[1;32m----> 3\u001b[1;33m     \u001b[0mk_model\u001b[0m\u001b[1;33m.\u001b[0m\u001b[0mfit\u001b[0m\u001b[1;33m(\u001b[0m\u001b[0mcustomers_pca_df\u001b[0m\u001b[1;33m)\u001b[0m\u001b[1;33m\u001b[0m\u001b[1;33m\u001b[0m\u001b[0m\n\u001b[0m\u001b[0;32m      4\u001b[0m     \u001b[0minertia\u001b[0m\u001b[1;33m.\u001b[0m\u001b[0mappend\u001b[0m\u001b[1;33m(\u001b[0m\u001b[0mk_model\u001b[0m\u001b[1;33m.\u001b[0m\u001b[0minertia_\u001b[0m\u001b[1;33m)\u001b[0m\u001b[1;33m\u001b[0m\u001b[1;33m\u001b[0m\u001b[0m\n",
      "\u001b[1;31mNameError\u001b[0m: name 'customers_pca_df' is not defined"
     ]
    }
   ],
   "source": [
    "for i in k:\n",
    "    k_model = KMeans(n_clusters=i, random_state=0)\n",
    "    k_model.fit(customers_pca_df)\n",
    "    inertia.append(k_model.inertia_)"
   ]
  },
  {
   "cell_type": "code",
   "execution_count": null,
   "id": "2999404a-81ff-4109-8deb-2c9512e08648",
   "metadata": {},
   "outputs": [],
   "source": [
    "#Answer to last six questions\n",
    "model = KMeans(n_clusters=3, random_state=0)\n",
    "model.fit(customers_pca_df\n",
    "k_3 = model.predict(customers_pca_df)\n",
    "customer_pca_predictions_df = customers_pca_df.copy() \n",
    "          customer_pca_predictions_df[\"customer_segments\"] = k_3"
   ]
  },
  {
   "cell_type": "code",
   "execution_count": 10,
   "id": "82737d8e-713a-467c-b240-1b8724984dca",
   "metadata": {},
   "outputs": [
    {
     "ename": "NameError",
     "evalue": "name 'customer_pca_predictions_df' is not defined",
     "output_type": "error",
     "traceback": [
      "\u001b[1;31m---------------------------------------------------------------------------\u001b[0m",
      "\u001b[1;31mNameError\u001b[0m                                 Traceback (most recent call last)",
      "\u001b[1;32m~\\AppData\\Local\\Temp\\ipykernel_14276\\558397897.py\u001b[0m in \u001b[0;36m<module>\u001b[1;34m\u001b[0m\n\u001b[1;32m----> 1\u001b[1;33m \u001b[0mcustomer_pca_predictions_df\u001b[0m\u001b[1;33m\u001b[0m\u001b[1;33m\u001b[0m\u001b[0m\n\u001b[0m",
      "\u001b[1;31mNameError\u001b[0m: name 'customer_pca_predictions_df' is not defined"
     ]
    }
   ],
   "source": [
    "customer_pca_predictions_df"
   ]
  },
  {
   "cell_type": "code",
   "execution_count": null,
   "id": "a68df8d9-b4ca-4d03-9519-6d4ef4f7cd81",
   "metadata": {},
   "outputs": [],
   "source": [
    "customer_pca_predictions_df.hvplot.scatter(\n",
    "    x=\"PCA1\",\n",
    "    y=\"PCA2\",\n",
    "    by=\"customer_segments\"\n",
    ")"
   ]
  },
  {
   "cell_type": "code",
   "execution_count": null,
   "id": "3ba390e5-8ce0-4e15-b631-99b31cc66dec",
   "metadata": {},
   "outputs": [],
   "source": [
    "#Final Answers\n",
    "model = KMeans(n_clusters=3, random_state=0)\n",
    "model.fit(customers_transformed_df)\n",
    "k_3 = model.predict(customers_transformed_df)\n",
    "customers_transformed_predictions_df = customers_transformed_df.copy()\n",
    "customers_transformed_predictions_df[\"customer_segments\"] = k_3\n"
   ]
  },
  {
   "cell_type": "code",
   "execution_count": null,
   "id": "6b791819-4b80-44b3-8f11-a0cb860cc2aa",
   "metadata": {},
   "outputs": [],
   "source": [
    "customers_transformed_predictions_df.hvplot.scatter(\n",
    "    x=\"feature_1\",\n",
    "    y=\"feature_2\",\n",
    "    by=\"customer_segments\"\n",
    ")"
   ]
  }
 ],
 "metadata": {
  "kernelspec": {
   "display_name": "Python 3 (ipykernel)",
   "language": "python",
   "name": "python3"
  },
  "language_info": {
   "codemirror_mode": {
    "name": "ipython",
    "version": 3
   },
   "file_extension": ".py",
   "mimetype": "text/x-python",
   "name": "python",
   "nbconvert_exporter": "python",
   "pygments_lexer": "ipython3",
   "version": "3.9.13"
  }
 },
 "nbformat": 4,
 "nbformat_minor": 5
}
